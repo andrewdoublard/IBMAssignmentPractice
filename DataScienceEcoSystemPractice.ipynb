{
 "cells": [
  {
   "cell_type": "markdown",
   "id": "d0bab4bf",
   "metadata": {},
   "source": [
    "# Data Science Tools and Ecosystem"
   ]
  },
  {
   "cell_type": "markdown",
   "id": "844115cd",
   "metadata": {},
   "source": [
    "## In this notebook, Data Science Tools and Ecosystem are summarized."
   ]
  },
  {
   "cell_type": "markdown",
   "id": "dcbf2552",
   "metadata": {},
   "source": [
    "*Objectives*\n",
    "\n",
    "- List Popular Data Science Languages\n",
    "- List Popular Data Science Libraries\n",
    "- Table of Open Source Tools\n",
    "- Arithmetic Expressions\n",
    "\n",
    "## Author \n",
    "\n",
    "Andrew Doublard"
   ]
  },
  {
   "cell_type": "markdown",
   "id": "a650089a",
   "metadata": {},
   "source": [
    "Some of the popular languages that Data Scientists use are:\n",
    "\n",
    "1. Python\n",
    "2. C++\n",
    "3. Java\n",
    "4. SQL\n",
    "5. R"
   ]
  },
  {
   "cell_type": "markdown",
   "id": "419c35f9",
   "metadata": {},
   "source": [
    "Some of the commonly used libraries used by Data Scientists include:\n",
    "\n",
    "1. Jupyter Notebook\n",
    "2. Pandas\n",
    "3. Numpy\n",
    "4. Seaborn\n",
    "5. MatPlotLib\n",
    "6. GGPlotly\n",
    "7. DPIR\n",
    "8. Plotly \n"
   ]
  },
  {
   "cell_type": "markdown",
   "id": "5a6cb25c",
   "metadata": {},
   "source": [
    "|Open Source Tools|\n",
    "|-----------------|\n",
    "|RStudio |\n",
    "|VS Code |\n",
    "|Jupter Notebook |"
   ]
  },
  {
   "cell_type": "markdown",
   "id": "3c6cacb5",
   "metadata": {},
   "source": [
    "### Below are a few examples of evaluating arithmetic expressions in Python"
   ]
  },
  {
   "cell_type": "code",
   "execution_count": 4,
   "id": "7b6b6a29",
   "metadata": {},
   "outputs": [
    {
     "data": {
      "text/plain": [
       "17"
      ]
     },
     "execution_count": 4,
     "metadata": {},
     "output_type": "execute_result"
    }
   ],
   "source": [
    "# This a simple arithmetic expression to mutiply then add integers\n",
    "(3*4)+5"
   ]
  },
  {
   "cell_type": "code",
   "execution_count": 5,
   "id": "57e1cf4a",
   "metadata": {},
   "outputs": [
    {
     "data": {
      "text/plain": [
       "3.3333333333333335"
      ]
     },
     "execution_count": 5,
     "metadata": {},
     "output_type": "execute_result"
    }
   ],
   "source": [
    "# This will convert 200 minutes to hours by diving by 60\n",
    "200/60"
   ]
  },
  {
   "cell_type": "code",
   "execution_count": null,
   "id": "843ac29e",
   "metadata": {},
   "outputs": [],
   "source": []
  }
 ],
 "metadata": {
  "kernelspec": {
   "display_name": "Python 3 (ipykernel)",
   "language": "python",
   "name": "python3"
  },
  "language_info": {
   "codemirror_mode": {
    "name": "ipython",
    "version": 3
   },
   "file_extension": ".py",
   "mimetype": "text/x-python",
   "name": "python",
   "nbconvert_exporter": "python",
   "pygments_lexer": "ipython3",
   "version": "3.9.13"
  }
 },
 "nbformat": 4,
 "nbformat_minor": 5
}
